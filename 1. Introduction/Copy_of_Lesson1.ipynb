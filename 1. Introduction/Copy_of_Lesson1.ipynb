{
  "nbformat": 4,
  "nbformat_minor": 0,
  "metadata": {
    "colab": {
      "provenance": [],
      "authorship_tag": "ABX9TyPR5s14T/osamZ8lYUG0vxs",
      "include_colab_link": true
    },
    "kernelspec": {
      "name": "python3",
      "display_name": "Python 3"
    },
    "language_info": {
      "name": "python"
    }
  },
  "cells": [
    {
      "cell_type": "markdown",
      "metadata": {
        "id": "view-in-github",
        "colab_type": "text"
      },
      "source": [
        "<a href=\"https://colab.research.google.com/github/myhang110703/Starting/blob/main/1.%20Introduction/Copy_of_Lesson1.ipynb\" target=\"_parent\"><img src=\"https://colab.research.google.com/assets/colab-badge.svg\" alt=\"Open In Colab\"/></a>"
      ]
    },
    {
      "cell_type": "code",
      "execution_count": null,
      "metadata": {
        "id": "D7kNgW4nlDUM"
      },
      "outputs": [],
      "source": []
    },
    {
      "cell_type": "markdown",
      "source": [
        "1. Giới thiệu về khoa học dữ liệu\n",
        "\n",
        "hj\n"
      ],
      "metadata": {
        "id": "IgCtAXW-mJ-R"
      }
    },
    {
      "cell_type": "code",
      "source": [
        "print('Hello world')"
      ],
      "metadata": {
        "colab": {
          "base_uri": "https://localhost:8080/"
        },
        "id": "329POfr8puJI",
        "outputId": "6ccee63a-29f1-40b0-8089-2e0bfdfcaba8"
      },
      "execution_count": null,
      "outputs": [
        {
          "output_type": "stream",
          "name": "stdout",
          "text": [
            "Hello world\n"
          ]
        }
      ]
    },
    {
      "cell_type": "markdown",
      "source": [
        "3. Biến và các dữ liệu cơ bản trong Python\n",
        "\n",
        "Biến: đánh nhãn cho dữ liệu và lưu trữ thông tin"
      ],
      "metadata": {
        "id": "jmr_411FqRL1"
      }
    },
    {
      "cell_type": "code",
      "source": [
        "z = 1\n",
        "print(z)"
      ],
      "metadata": {
        "colab": {
          "base_uri": "https://localhost:8080/"
        },
        "id": "0kmzp_JuqWDB",
        "outputId": "670acf11-33c9-4d63-f6b9-a1a8c9898098"
      },
      "execution_count": null,
      "outputs": [
        {
          "output_type": "stream",
          "name": "stdout",
          "text": [
            "1\n"
          ]
        }
      ]
    },
    {
      "cell_type": "markdown",
      "source": [
        "f để truyền x, y vào\n",
        "bien: dữ liệu dạng chuỗi"
      ],
      "metadata": {
        "id": "sGroJFDxrfyV"
      }
    },
    {
      "cell_type": "code",
      "source": [
        "x = 3\n",
        "y=4*2\n",
        "bien = \"ho ho ho\"\n",
        "print(f\"x la {x}, y là {y}, biến cho ra {bien}\")"
      ],
      "metadata": {
        "colab": {
          "base_uri": "https://localhost:8080/"
        },
        "id": "74MCf86zq0oI",
        "outputId": "6af936f4-f604-4772-8a9a-3c291c496be4"
      },
      "execution_count": null,
      "outputs": [
        {
          "output_type": "stream",
          "name": "stdout",
          "text": [
            "x la 3, y là 8, biến cho ra ho ho ho\n"
          ]
        }
      ]
    },
    {
      "cell_type": "markdown",
      "source": [
        "Các kiểu dữ liệu\n",
        "int: số nguyên, float: số thực, complex: số phức\n",
        "boolean: đúng sai\n",
        "Hình ảnh/âm thanh là dạng số"
      ],
      "metadata": {
        "id": "lQ6ffE12r0fM"
      }
    },
    {
      "cell_type": "code",
      "source": [
        "Các toán tử trong Python: toán tử số học, toán tử so sánh (quan hệ), toán từ gán, toán từ logic\n",
        "\n",
        "\n"
      ],
      "metadata": {
        "id": "kQQ9jheKu3fk"
      },
      "execution_count": null,
      "outputs": []
    },
    {
      "cell_type": "code",
      "source": [
        "a = \"1\"\n",
        "type(a)"
      ],
      "metadata": {
        "colab": {
          "base_uri": "https://localhost:8080/"
        },
        "id": "RrqWSI0Mv81a",
        "outputId": "f6065d8f-9850-4a2b-8e2a-0597ea35d1dd"
      },
      "execution_count": null,
      "outputs": [
        {
          "output_type": "execute_result",
          "data": {
            "text/plain": [
              "str"
            ]
          },
          "metadata": {},
          "execution_count": 4
        }
      ]
    },
    {
      "cell_type": "code",
      "source": [
        "a = int(a)\n",
        "type(a)"
      ],
      "metadata": {
        "colab": {
          "base_uri": "https://localhost:8080/"
        },
        "id": "rrP0Jh3BwGA8",
        "outputId": "1bc85b65-6625-48e7-df41-5ebd85dee942"
      },
      "execution_count": null,
      "outputs": [
        {
          "output_type": "execute_result",
          "data": {
            "text/plain": [
              "int"
            ]
          },
          "metadata": {},
          "execution_count": 5
        }
      ]
    },
    {
      "cell_type": "markdown",
      "source": [
        "if: phải thỏa điều kiện thì mới bắt đầu vô statement"
      ],
      "metadata": {
        "id": "XBnVtHiZwfpZ"
      }
    },
    {
      "cell_type": "code",
      "source": [
        "a=2\n",
        "b=1\n",
        "if a < b :\n",
        "  print('a nhỏ hơn b')"
      ],
      "metadata": {
        "id": "T16HflwTwODh"
      },
      "execution_count": null,
      "outputs": []
    },
    {
      "cell_type": "code",
      "source": [
        "a = 1\n",
        "b = 1\n",
        "if a<b:\n",
        "  print('a nhỏ hơn b')\n",
        "else:\n",
        "  print('a không nhỏ hơn b')"
      ],
      "metadata": {
        "colab": {
          "base_uri": "https://localhost:8080/"
        },
        "id": "_MtDYVvexKA9",
        "outputId": "321049ba-d95b-4a71-a9a0-0e71e567ce86"
      },
      "execution_count": null,
      "outputs": [
        {
          "output_type": "stream",
          "name": "stdout",
          "text": [
            "a không nhỏ hơn b\n"
          ]
        }
      ]
    },
    {
      "cell_type": "markdown",
      "source": [
        "elif"
      ],
      "metadata": {
        "id": "zgflDGt_x56Z"
      }
    },
    {
      "cell_type": "code",
      "source": [
        "a = 2\n",
        "b = 2\n",
        "if a<b:\n",
        "  print('a nhỏ hơn b')\n",
        "elif a==2:\n",
        "  print('a bằng 2')\n",
        "else:\n",
        "  print('a không nhỏ hơn b')"
      ],
      "metadata": {
        "colab": {
          "base_uri": "https://localhost:8080/"
        },
        "id": "K98qm_qNx7g4",
        "outputId": "45c196df-702f-499d-c720-a1b2c2506292"
      },
      "execution_count": null,
      "outputs": [
        {
          "output_type": "stream",
          "name": "stdout",
          "text": [
            "a bằng 2\n"
          ]
        }
      ]
    },
    {
      "cell_type": "markdown",
      "source": [
        "vòng lặp: while, lặp theo điều kiện\n",
        "for: lặp theo số\n"
      ],
      "metadata": {
        "id": "-JJOOy2Ty8rT"
      }
    },
    {
      "cell_type": "code",
      "source": [
        "a = 0\n",
        "while a<3:\n",
        "  print(a)\n",
        "  a+=1"
      ],
      "metadata": {
        "colab": {
          "base_uri": "https://localhost:8080/"
        },
        "id": "TOi5tXZCywYr",
        "outputId": "d7836f4a-7859-47ce-b649-6b106336dbe6"
      },
      "execution_count": null,
      "outputs": [
        {
          "output_type": "stream",
          "name": "stdout",
          "text": [
            "0\n",
            "1\n",
            "2\n"
          ]
        }
      ]
    },
    {
      "cell_type": "markdown",
      "source": [
        "cấu trúc của dữ liệu trong python: string, tuple, list(chứa nhiều chuỗi), dict(lớn nhất, chứa nhiều dạng)"
      ],
      "metadata": {
        "id": "oTqCeO1Fz_q0"
      }
    },
    {
      "cell_type": "code",
      "source": [
        "Hàm:"
      ],
      "metadata": {
        "id": "9xVXVtE30O2h"
      },
      "execution_count": null,
      "outputs": []
    },
    {
      "cell_type": "code",
      "source": [
        "def sosanh(a,b):\n",
        "  if a>b:\n",
        "    print('{} lớn hơn {}'.format(a,b))\n",
        "  elif a==b:\n",
        "    print('{} và {} bằng nhau'.format(a,b))\n",
        "  else:\n",
        "    print('{} nhỏ hơn {}'.format(a,b))"
      ],
      "metadata": {
        "id": "vy3NZ0NR0-1L"
      },
      "execution_count": null,
      "outputs": []
    },
    {
      "cell_type": "code",
      "source": [
        "sosanh(3,6)"
      ],
      "metadata": {
        "colab": {
          "base_uri": "https://localhost:8080/"
        },
        "id": "S9mu0E921XU9",
        "outputId": "ce652a79-b6d7-49fc-a1c6-df8cd9698cb9"
      },
      "execution_count": null,
      "outputs": [
        {
          "output_type": "stream",
          "name": "stdout",
          "text": [
            "3 nhỏ hơn 6\n"
          ]
        }
      ]
    },
    {
      "cell_type": "code",
      "source": [
        "sosanh(10,4)"
      ],
      "metadata": {
        "colab": {
          "base_uri": "https://localhost:8080/"
        },
        "id": "bMYFkS_42dzv",
        "outputId": "c33171c5-8fa4-4cdb-ef38-b996cd08d159"
      },
      "execution_count": null,
      "outputs": [
        {
          "output_type": "stream",
          "name": "stdout",
          "text": [
            "10 lớn hơn 4\n"
          ]
        }
      ]
    },
    {
      "cell_type": "code",
      "source": [
        "sosanh(4,4)"
      ],
      "metadata": {
        "colab": {
          "base_uri": "https://localhost:8080/"
        },
        "id": "1nJCg7Np2hO7",
        "outputId": "5384cd42-6344-4d72-dbaf-a0575fa6bb4e"
      },
      "execution_count": null,
      "outputs": [
        {
          "output_type": "stream",
          "name": "stdout",
          "text": [
            "4 và 4 bằng nhau\n"
          ]
        }
      ]
    },
    {
      "cell_type": "code",
      "source": [],
      "metadata": {
        "id": "4GubE_jh3HWI"
      },
      "execution_count": null,
      "outputs": []
    },
    {
      "cell_type": "markdown",
      "source": [
        "BT: Viết hàm đánh giá khách hàng dựa trên số tiền trong TK.\n",
        "Nếu TK>50tr -> mở thẻ Visa\n",
        "Nếu TK<50tr -> thôi\n",
        "Nếu TK=50tr -> gửi sếp"
      ],
      "metadata": {
        "id": "bLkXQ1Ih26cf"
      }
    },
    {
      "cell_type": "code",
      "source": [
        "def visa(a):\n",
        "  if a>50:\n",
        "    print('Khách hàng mở thẻ Visa')\n",
        "  elif a==50 :\n",
        "    print('Gửi sếp xem xét')\n",
        "  else:\n",
        "    print('Không mở thẻ')"
      ],
      "metadata": {
        "id": "5Q_bJQWE26BO"
      },
      "execution_count": null,
      "outputs": []
    },
    {
      "cell_type": "code",
      "source": [
        "visa(70)"
      ],
      "metadata": {
        "colab": {
          "base_uri": "https://localhost:8080/"
        },
        "id": "vVENAf0x4BYi",
        "outputId": "40283249-d9c6-4316-8fee-ab80308160bc"
      },
      "execution_count": null,
      "outputs": [
        {
          "output_type": "stream",
          "name": "stdout",
          "text": [
            "Khách hàng mở thẻ Visa\n"
          ]
        }
      ]
    },
    {
      "cell_type": "code",
      "source": [
        "visa(50)"
      ],
      "metadata": {
        "colab": {
          "base_uri": "https://localhost:8080/"
        },
        "id": "23HOdX6h4FLm",
        "outputId": "f6e92a19-2110-4590-c8da-52cd964a3489"
      },
      "execution_count": null,
      "outputs": [
        {
          "output_type": "stream",
          "name": "stdout",
          "text": [
            "Gửi sếp xem xét\n"
          ]
        }
      ]
    },
    {
      "cell_type": "code",
      "source": [
        "visa(30)"
      ],
      "metadata": {
        "colab": {
          "base_uri": "https://localhost:8080/"
        },
        "id": "57QrBQRR4HWs",
        "outputId": "e07f9784-02f2-4099-d874-4b979cc1b459"
      },
      "execution_count": null,
      "outputs": [
        {
          "output_type": "stream",
          "name": "stdout",
          "text": [
            "Không mở thẻ\n"
          ]
        }
      ]
    },
    {
      "cell_type": "markdown",
      "source": [
        "BT: thông tin\n",
        "+ Khách hàng bỏ tiền vô sổ tiết kiệm thì mỗi tháng tự động tăng 15%\n",
        "+ Điểm dừng: hỏi khách hàng muốn để tiền hay rút ra"
      ],
      "metadata": {
        "id": "V7hmrPOb5Zdz"
      }
    },
    {
      "cell_type": "code",
      "source": [
        "a=50\n",
        "while a<300:\n",
        "  a+=a*15/100\n",
        "  if a<200:\n",
        "    print('{}:Tiếp tục'.format(a))\n",
        "  else:\n",
        "    print('{}: Dừng'.format(a))\n"
      ],
      "metadata": {
        "colab": {
          "base_uri": "https://localhost:8080/"
        },
        "id": "ef3en-9c6ABQ",
        "outputId": "a1d10ce9-e6fc-44be-ba26-4e1893a191fa"
      },
      "execution_count": null,
      "outputs": [
        {
          "output_type": "stream",
          "name": "stdout",
          "text": [
            "57.5:Tiếp tục\n",
            "66.125:Tiếp tục\n",
            "76.04375:Tiếp tục\n",
            "87.4503125:Tiếp tục\n",
            "100.567859375:Tiếp tục\n",
            "115.65303828124999:Tiếp tục\n",
            "133.0009940234375:Tiếp tục\n",
            "152.95114312695313:Tiếp tục\n",
            "175.8938145959961:Tiếp tục\n",
            "202.27788678539554: Dừng\n",
            "232.61956980320485: Dừng\n",
            "267.5125052736856: Dừng\n",
            "307.6393810647384: Dừng\n"
          ]
        }
      ]
    },
    {
      "cell_type": "markdown",
      "source": [
        "BTVN:tìm hiểu về str, list, tuple, dict\n",
        "\n",
        "Kiểu dữ liệu List là kiểu dữ liệu được sử dụng nhiều nhất trong Python bạn có thể thấy chúng bất kì đâu trong một dự án Python, List chứa một tập các giá trị, được phân tách nhau bằng dấu phẩy, List có thể chứa bất kỳ kiểu dữ liệu nào. Một List được tạo bởi cặp dấu [] như sau:"
      ],
      "metadata": {
        "id": "HqPOgeEA7wK6"
      }
    },
    {
      "cell_type": "markdown",
      "source": [],
      "metadata": {
        "id": "AfQWsMYFLAjs"
      }
    },
    {
      "cell_type": "code",
      "source": [
        "lst = [2, 4, 3, \"ABC\", 3, [6, 4, 2]] #=> [2, 4, 3, 'ABC', 3, [6, 4, 2]]\n",
        "print(lst)"
      ],
      "metadata": {
        "id": "EHyfTMYyLAAt",
        "outputId": "bb4a49e5-5198-4ca3-e2b8-e8e423087d13",
        "colab": {
          "base_uri": "https://localhost:8080/"
        }
      },
      "execution_count": 33,
      "outputs": [
        {
          "output_type": "stream",
          "name": "stdout",
          "text": [
            "[2, 4, 3, 'ABC', 3, [6, 4, 2]]\n"
          ]
        }
      ]
    },
    {
      "cell_type": "markdown",
      "source": [
        "Truy cập đến một phần tử trong mảng: thứ tự bắt đầu từ 0"
      ],
      "metadata": {
        "id": "qbQclPdzLb-P"
      }
    },
    {
      "cell_type": "code",
      "source": [
        "print(lst[3])"
      ],
      "metadata": {
        "id": "e7o5aAwgLeQU",
        "outputId": "a223d08b-c289-4380-c946-1329ff6ef8d5",
        "colab": {
          "base_uri": "https://localhost:8080/"
        }
      },
      "execution_count": 21,
      "outputs": [
        {
          "output_type": "stream",
          "name": "stdout",
          "text": [
            "ABC\n"
          ]
        }
      ]
    },
    {
      "cell_type": "code",
      "source": [
        "lst[0] = 100\n",
        "print(lst)"
      ],
      "metadata": {
        "id": "ugMjGXVNL0G-",
        "outputId": "2790fb44-dae9-404f-d83c-d2dcb5057f3f",
        "colab": {
          "base_uri": "https://localhost:8080/"
        }
      },
      "execution_count": 24,
      "outputs": [
        {
          "output_type": "stream",
          "name": "stdout",
          "text": [
            "[100, 4, 3, 'ABC', 3, [6, 4, 2]]\n"
          ]
        }
      ]
    },
    {
      "cell_type": "markdown",
      "source": [
        "Lấy độ dài của mảng:"
      ],
      "metadata": {
        "id": "QgZIWBYjMfRb"
      }
    },
    {
      "cell_type": "code",
      "source": [
        "print(len(lst))"
      ],
      "metadata": {
        "id": "nZV3CNnRMYvK",
        "outputId": "ce404d08-cc52-49cc-fe84-0f1b2a3c52bd",
        "colab": {
          "base_uri": "https://localhost:8080/"
        }
      },
      "execution_count": 25,
      "outputs": [
        {
          "output_type": "stream",
          "name": "stdout",
          "text": [
            "6\n"
          ]
        }
      ]
    },
    {
      "cell_type": "markdown",
      "source": [
        "Thêm phần tử mới vào mảng:"
      ],
      "metadata": {
        "id": "y7laN2DCMjhq"
      }
    },
    {
      "cell_type": "code",
      "source": [
        "lst.append(True)\n",
        "print(lst)"
      ],
      "metadata": {
        "id": "s_1a5TAuMlud",
        "outputId": "6f514109-d72f-4b81-bb90-40d278bf0b88",
        "colab": {
          "base_uri": "https://localhost:8080/"
        }
      },
      "execution_count": 34,
      "outputs": [
        {
          "output_type": "stream",
          "name": "stdout",
          "text": [
            "[2, 4, 3, 'ABC', 3, [6, 4, 2], True]\n"
          ]
        }
      ]
    },
    {
      "cell_type": "markdown",
      "source": [
        "Gộp hai mảng:"
      ],
      "metadata": {
        "id": "PK7jQHA-ND_J"
      }
    },
    {
      "cell_type": "code",
      "source": [
        "any_lst = ['one', 'two', 'three']\n",
        "lst.extend(any_lst) #=> [2, 4, 100, 'ABC', 3, [6, 4, 2], True, 'one', 'two', 'three']\n",
        "print(lst)"
      ],
      "metadata": {
        "id": "9jaX6XLPNF8j",
        "outputId": "c9043a2f-2d86-4622-d831-2b5ead90b127",
        "colab": {
          "base_uri": "https://localhost:8080/"
        }
      },
      "execution_count": 36,
      "outputs": [
        {
          "output_type": "stream",
          "name": "stdout",
          "text": [
            "[2, 4, 3, 'ABC', 3, [6, 4, 2], True, 'one', 'two', 'three', 'one', 'two', 'three']\n"
          ]
        }
      ]
    },
    {
      "cell_type": "markdown",
      "source": [
        "Sắp xếp hay đảo ngược:"
      ],
      "metadata": {
        "id": "E7BgTtCXNSxp"
      }
    },
    {
      "cell_type": "code",
      "source": [
        "lst = [4,3,5,2,7,5,2]"
      ],
      "metadata": {
        "id": "LyYlzUBONVD7"
      },
      "execution_count": 47,
      "outputs": []
    },
    {
      "cell_type": "code",
      "source": [
        "lst.sort() #=> [2, 2, 3, 4, 5, 5, 7]\n",
        "print(lst)"
      ],
      "metadata": {
        "id": "Syf9XnYTPGII",
        "outputId": "6d694c7d-a184-47e1-dac9-ba2a94d0f951",
        "colab": {
          "base_uri": "https://localhost:8080/"
        }
      },
      "execution_count": 39,
      "outputs": [
        {
          "output_type": "stream",
          "name": "stdout",
          "text": [
            "[2, 2, 3, 4, 5, 5, 7]\n"
          ]
        }
      ]
    },
    {
      "cell_type": "code",
      "source": [
        "lst.sort(reverse = True)\n",
        "print(lst)"
      ],
      "metadata": {
        "id": "pKKiKyZBPMZr",
        "outputId": "44071953-4b32-4548-f4a9-4c9dd6ae1d02",
        "colab": {
          "base_uri": "https://localhost:8080/"
        }
      },
      "execution_count": 48,
      "outputs": [
        {
          "output_type": "stream",
          "name": "stdout",
          "text": [
            "[7, 5, 5, 4, 3, 2, 2]\n"
          ]
        }
      ]
    },
    {
      "cell_type": "code",
      "source": [
        "del(lst[1])\n",
        "lst"
      ],
      "metadata": {
        "id": "4wD3YtzpPwCw",
        "outputId": "2e4fa653-a0b0-433b-94b1-1aeff8c4ca17",
        "colab": {
          "base_uri": "https://localhost:8080/"
        }
      },
      "execution_count": 49,
      "outputs": [
        {
          "output_type": "execute_result",
          "data": {
            "text/plain": [
              "[7, 5, 4, 3, 2, 2]"
            ]
          },
          "metadata": {},
          "execution_count": 49
        }
      ]
    },
    {
      "cell_type": "code",
      "source": [],
      "metadata": {
        "id": "4fExPbPiP5D8"
      },
      "execution_count": null,
      "outputs": []
    },
    {
      "cell_type": "markdown",
      "source": [
        "# **Tuple**\n",
        "Tương tự như kiểu dữ liệu List tuy nhiên lại có một sự khác biệt với kiểu List\n",
        "đó là các phần tử trong Tuple không thể bị thay đổi sau khi gán chính vì vậy tốc độ của Tuple luoonm luôn nhanh hơn so với List, Tuple chứa một tập các giá trị, được phân tách nhau bằng dấu phẩy, có thể chứa bất kỳ kiểu dữ liệu nào. Một tuple được tạo bởi cặp dấu () như sau:"
      ],
      "metadata": {
        "id": "c36wd_IXPYoQ"
      }
    },
    {
      "cell_type": "code",
      "source": [
        "tup = (2, \"ABC\", 7, 3, [4,3,7], True, 3)"
      ],
      "metadata": {
        "id": "HIrukHVTPP3h"
      },
      "execution_count": 41,
      "outputs": []
    },
    {
      "cell_type": "markdown",
      "source": [
        "Không thể thay đổi một phần tử của Tuple:"
      ],
      "metadata": {
        "id": "3pSM5ugzPiru"
      }
    },
    {
      "cell_type": "code",
      "source": [
        "tup[1] = 100"
      ],
      "metadata": {
        "id": "p4vZR2dBPiOS",
        "outputId": "49c3469a-37d0-4aef-9993-0f51014e002f",
        "colab": {
          "base_uri": "https://localhost:8080/",
          "height": 146
        }
      },
      "execution_count": 42,
      "outputs": [
        {
          "output_type": "error",
          "ename": "TypeError",
          "evalue": "'tuple' object does not support item assignment",
          "traceback": [
            "\u001b[0;31m---------------------------------------------------------------------------\u001b[0m",
            "\u001b[0;31mTypeError\u001b[0m                                 Traceback (most recent call last)",
            "\u001b[0;32m<ipython-input-42-6a950989ff86>\u001b[0m in \u001b[0;36m<cell line: 1>\u001b[0;34m()\u001b[0m\n\u001b[0;32m----> 1\u001b[0;31m \u001b[0mtup\u001b[0m\u001b[0;34m[\u001b[0m\u001b[0;36m1\u001b[0m\u001b[0;34m]\u001b[0m \u001b[0;34m=\u001b[0m \u001b[0;36m100\u001b[0m\u001b[0;34m\u001b[0m\u001b[0;34m\u001b[0m\u001b[0m\n\u001b[0m",
            "\u001b[0;31mTypeError\u001b[0m: 'tuple' object does not support item assignment"
          ]
        }
      ]
    },
    {
      "cell_type": "markdown",
      "source": [
        "Không thể xoá phần tử trong Tuple:"
      ],
      "metadata": {
        "id": "INZr_pelPq6n"
      }
    },
    {
      "cell_type": "code",
      "source": [
        "del(tup[1])"
      ],
      "metadata": {
        "id": "IwrBI5K2PrnW",
        "outputId": "ac6d6d5f-6324-4772-f067-96cde86c85a2",
        "colab": {
          "base_uri": "https://localhost:8080/",
          "height": 146
        }
      },
      "execution_count": 43,
      "outputs": [
        {
          "output_type": "error",
          "ename": "TypeError",
          "evalue": "'tuple' object doesn't support item deletion",
          "traceback": [
            "\u001b[0;31m---------------------------------------------------------------------------\u001b[0m",
            "\u001b[0;31mTypeError\u001b[0m                                 Traceback (most recent call last)",
            "\u001b[0;32m<ipython-input-43-6190cae9428a>\u001b[0m in \u001b[0;36m<cell line: 1>\u001b[0;34m()\u001b[0m\n\u001b[0;32m----> 1\u001b[0;31m \u001b[0;32mdel\u001b[0m\u001b[0;34m(\u001b[0m\u001b[0mtup\u001b[0m\u001b[0;34m[\u001b[0m\u001b[0;36m1\u001b[0m\u001b[0;34m]\u001b[0m\u001b[0;34m)\u001b[0m\u001b[0;34m\u001b[0m\u001b[0;34m\u001b[0m\u001b[0m\n\u001b[0m",
            "\u001b[0;31mTypeError\u001b[0m: 'tuple' object doesn't support item deletion"
          ]
        }
      ]
    },
    {
      "cell_type": "markdown",
      "source": [
        "Đếm số lần xuất hiện của một phần tử trong Tuple:"
      ],
      "metadata": {
        "id": "eksJRE5qP7l8"
      }
    },
    {
      "cell_type": "code",
      "source": [
        "print(tup.count(3))"
      ],
      "metadata": {
        "id": "6pjda2WNPvH6",
        "outputId": "1e50d45e-f90b-49eb-9591-3e36cc9d40bc",
        "colab": {
          "base_uri": "https://localhost:8080/"
        }
      },
      "execution_count": 50,
      "outputs": [
        {
          "output_type": "stream",
          "name": "stdout",
          "text": [
            "2\n"
          ]
        }
      ]
    },
    {
      "cell_type": "markdown",
      "source": [
        "Lấy ra vị trí index đầu tiên tìm được:"
      ],
      "metadata": {
        "id": "LM7-bKdcQEoQ"
      }
    },
    {
      "cell_type": "code",
      "source": [
        "print(tup.index(3)) #=> 3"
      ],
      "metadata": {
        "id": "OWnxTUkZQFTP",
        "outputId": "5077d26a-edeb-4519-9035-7e8eebd92bbb",
        "colab": {
          "base_uri": "https://localhost:8080/"
        }
      },
      "execution_count": 51,
      "outputs": [
        {
          "output_type": "stream",
          "name": "stdout",
          "text": [
            "3\n"
          ]
        }
      ]
    },
    {
      "cell_type": "markdown",
      "source": [
        "**Set**\n",
        "\n",
        "Tương tự như 2 kiểu dữ liệu chúng ta đã tìm hiểu ở trên tuy nhiên Set lại chứa các phần tử là DUY NHẤT có nghĩa là các phần tử không bị lặp lại trong một tập hợp Set 💯, Set chứa một tập các giá trị, được phân tách nhau bằng dấu phẩy, có thể sử dụng được các phép toán trên tập hợp, các phần tử trong Set không có thứ tự. Một tập hợp Set được tạo bởi cặp dấu {} như sau:"
      ],
      "metadata": {
        "id": "RDzNQlK5QXnd"
      }
    },
    {
      "cell_type": "code",
      "source": [
        "st_a = { 2, 7, 3, 2, 5 } #=> set([2, 3, 5, 7])\n",
        "print(type(st_a)) #=> <type 'set'>"
      ],
      "metadata": {
        "id": "cCtYQwaCQh45",
        "outputId": "f44f2dda-33dc-49e5-851f-422ce18b8c3f",
        "colab": {
          "base_uri": "https://localhost:8080/"
        }
      },
      "execution_count": 52,
      "outputs": [
        {
          "output_type": "stream",
          "name": "stdout",
          "text": [
            "<class 'set'>\n"
          ]
        }
      ]
    },
    {
      "cell_type": "markdown",
      "source": [
        "Thêm một phần tử vào Set:"
      ],
      "metadata": {
        "id": "KVKg9012QoPh"
      }
    },
    {
      "cell_type": "code",
      "source": [
        "st_a.add(100) #=> set([2, 3, 100, 5, 7])\n",
        "print(st_a)"
      ],
      "metadata": {
        "id": "hsV9JG1qQupG",
        "outputId": "e0485b47-6095-4668-cfb8-554ad7e702fd",
        "colab": {
          "base_uri": "https://localhost:8080/"
        }
      },
      "execution_count": 53,
      "outputs": [
        {
          "output_type": "stream",
          "name": "stdout",
          "text": [
            "{2, 3, 100, 5, 7}\n"
          ]
        }
      ]
    },
    {
      "cell_type": "markdown",
      "source": [
        "Xoá một phần tử bằng pop:"
      ],
      "metadata": {
        "id": "JrF830iPQ2-T"
      }
    },
    {
      "cell_type": "markdown",
      "source": [
        "Phép &h lấy giao của A và B"
      ],
      "metadata": {
        "id": "X-CTqGXNRGkg"
      }
    },
    {
      "cell_type": "code",
      "source": [
        "st_b = { 2, 1000, 3, 7, 5 }\n",
        "print(st_a & st_b)"
      ],
      "metadata": {
        "id": "01XfB5S-Q30F",
        "outputId": "85b4e4e3-9979-4938-a591-bed3f7772e3c",
        "colab": {
          "base_uri": "https://localhost:8080/"
        }
      },
      "execution_count": 58,
      "outputs": [
        {
          "output_type": "stream",
          "name": "stdout",
          "text": [
            "{2, 3, 5, 7}\n"
          ]
        }
      ]
    },
    {
      "cell_type": "markdown",
      "source": [
        "Phép | lấy hợp của A và B"
      ],
      "metadata": {
        "id": "ObNUXhQyRXyL"
      }
    },
    {
      "cell_type": "code",
      "source": [
        "print(st_a | st_b) #=> set([1, 2, 3, 4, 5, 7, 9])"
      ],
      "metadata": {
        "id": "-MAD6CR6RYah",
        "outputId": "defec32d-4668-44e6-e2b0-8b10427e2061",
        "colab": {
          "base_uri": "https://localhost:8080/"
        }
      },
      "execution_count": 59,
      "outputs": [
        {
          "output_type": "stream",
          "name": "stdout",
          "text": [
            "{2, 3, 100, 5, 7, 1000}\n"
          ]
        }
      ]
    },
    {
      "cell_type": "markdown",
      "source": [
        "Phép - lấy các giá trị chỉ có ở A không có ở B"
      ],
      "metadata": {
        "id": "G57ItPTnRmYm"
      }
    },
    {
      "cell_type": "code",
      "source": [
        "print(st_a - st_b)"
      ],
      "metadata": {
        "id": "gScrK6TPRMT9",
        "outputId": "1a4cfc2a-b86d-48ef-dbe8-4b29c69d8a83",
        "colab": {
          "base_uri": "https://localhost:8080/"
        }
      },
      "execution_count": 60,
      "outputs": [
        {
          "output_type": "stream",
          "name": "stdout",
          "text": [
            "{100}\n"
          ]
        }
      ]
    },
    {
      "cell_type": "markdown",
      "source": [
        "Phép ^ bù của A và B chỉ lấy những phần tử có ở A và B nhưng không phải phần tử chung của hai tập hợp này"
      ],
      "metadata": {
        "id": "lZizmIPFRuaP"
      }
    },
    {
      "cell_type": "code",
      "source": [
        "print(st_a ^ st_b) #=> set([1, 4, 5, 9])"
      ],
      "metadata": {
        "id": "3msv9CHYRu9o",
        "outputId": "a3802585-9b1d-4463-b97b-c93dd6fac10a",
        "colab": {
          "base_uri": "https://localhost:8080/"
        }
      },
      "execution_count": 61,
      "outputs": [
        {
          "output_type": "stream",
          "name": "stdout",
          "text": [
            "{100, 1000}\n"
          ]
        }
      ]
    },
    {
      "cell_type": "code",
      "source": [
        "print(st_a)"
      ],
      "metadata": {
        "id": "opJLxVqERBYx",
        "outputId": "f8be9864-acd9-4d68-9c25-49d2e53dd1d7",
        "colab": {
          "base_uri": "https://localhost:8080/"
        }
      },
      "execution_count": 56,
      "outputs": [
        {
          "output_type": "stream",
          "name": "stdout",
          "text": [
            "{2, 3, 100, 5, 7}\n"
          ]
        }
      ]
    },
    {
      "cell_type": "markdown",
      "source": [
        "**Dict**\n",
        "Khác với 3 kiểu dữ liệu ở trên Dict lưu trữ các phần tử theo dạng {key: value}, các key phải có giá trị khác nhau và Python chỉ chấp nhận các key có các kiểu dữ liệu như (string, number, tuple): Một Dict được tạo bởi cặp dấu {} và mỗi phàn tử là một cặp key:value 😮 như sau:"
      ],
      "metadata": {
        "id": "O61Cr1VwR9_7"
      }
    },
    {
      "cell_type": "code",
      "source": [
        "dict_a = {1: \"MySQL\", 2: \"SQLServer\", 3:\"SQLite\"} #=> {1: 'MySQL', 2: 'SQLServer', 3: 'SQLite'}\n",
        "dict_b = {\"a\": \"MySQL\", \"b\": \"SQLServer\", (2, 3, 7): \"SQLite\"} #=> {'a': 'MySQL', 'b': 'SQLServer', (2, 3, 7): 'SQLite'}\n",
        "\n",
        "print(dict_a, dict_b)"
      ],
      "metadata": {
        "id": "hdLYjqE2SB-0",
        "outputId": "4fd401a9-8c8c-4ae8-c76e-5d4c69d526a7",
        "colab": {
          "base_uri": "https://localhost:8080/"
        }
      },
      "execution_count": 62,
      "outputs": [
        {
          "output_type": "stream",
          "name": "stdout",
          "text": [
            "{1: 'MySQL', 2: 'SQLServer', 3: 'SQLite'} {'a': 'MySQL', 'b': 'SQLServer', (2, 3, 7): 'SQLite'}\n"
          ]
        }
      ]
    },
    {
      "cell_type": "markdown",
      "source": [
        "Lấy các keys của Dict:"
      ],
      "metadata": {
        "id": "q8sCF7SdSMpw"
      }
    },
    {
      "cell_type": "code",
      "source": [
        "print(dict_a.keys())"
      ],
      "metadata": {
        "id": "smOT76Y9SOaq",
        "outputId": "2a1d54ff-0878-41a9-e7cb-1cb71fabc886",
        "colab": {
          "base_uri": "https://localhost:8080/"
        }
      },
      "execution_count": 63,
      "outputs": [
        {
          "output_type": "stream",
          "name": "stdout",
          "text": [
            "dict_keys([1, 2, 3])\n"
          ]
        }
      ]
    },
    {
      "cell_type": "markdown",
      "source": [
        "Lấy các values của Dict:"
      ],
      "metadata": {
        "id": "AJPcJVnxSWvf"
      }
    },
    {
      "cell_type": "code",
      "source": [
        "print(dict_a.values())"
      ],
      "metadata": {
        "id": "lP5RmK48STmr",
        "outputId": "f0549113-f72f-435c-cf9f-91df9d6b9b76",
        "colab": {
          "base_uri": "https://localhost:8080/"
        }
      },
      "execution_count": 65,
      "outputs": [
        {
          "output_type": "stream",
          "name": "stdout",
          "text": [
            "dict_values(['MySQL', 'SQLServer', 'SQLite'])\n"
          ]
        }
      ]
    },
    {
      "cell_type": "markdown",
      "source": [
        "Lấy các items của Dict:"
      ],
      "metadata": {
        "id": "RCLrn5gtScC3"
      }
    },
    {
      "cell_type": "code",
      "source": [
        "print(dict_a.items())"
      ],
      "metadata": {
        "id": "KiXPLBG-Sd4m",
        "outputId": "fa93eb01-36c1-48bb-99d8-9f5e68be9e9c",
        "colab": {
          "base_uri": "https://localhost:8080/"
        }
      },
      "execution_count": 66,
      "outputs": [
        {
          "output_type": "stream",
          "name": "stdout",
          "text": [
            "dict_items([(1, 'MySQL'), (2, 'SQLServer'), (3, 'SQLite')])\n"
          ]
        }
      ]
    },
    {
      "cell_type": "markdown",
      "source": [
        "Truy cập bằng key:"
      ],
      "metadata": {
        "id": "5x864xJlSr0u"
      }
    },
    {
      "cell_type": "code",
      "source": [
        "print(dict_a[2]) #=> SQLServer"
      ],
      "metadata": {
        "id": "7UglruExSusM",
        "outputId": "a6e96982-05ae-45ae-e568-162398f03f7b",
        "colab": {
          "base_uri": "https://localhost:8080/"
        }
      },
      "execution_count": 67,
      "outputs": [
        {
          "output_type": "stream",
          "name": "stdout",
          "text": [
            "SQLServer\n"
          ]
        }
      ]
    },
    {
      "cell_type": "markdown",
      "source": [
        "Thêm một phần tử vào Dict:"
      ],
      "metadata": {
        "id": "uG_mZzr3Sy4u"
      }
    },
    {
      "cell_type": "code",
      "source": [
        "dict_a[100] = \"MongoDB\"\n",
        "print(dict_a) #=> {1: 'MySQL', 2: 'SQLServer', 3: 'SQLite', 100: 'MongoDB'}"
      ],
      "metadata": {
        "id": "GRLoE7xGS05E",
        "outputId": "7e979f16-6e56-4dde-8176-134327bbcc8f",
        "colab": {
          "base_uri": "https://localhost:8080/"
        }
      },
      "execution_count": 69,
      "outputs": [
        {
          "output_type": "stream",
          "name": "stdout",
          "text": [
            "{1: 'MySQL', 2: 'SQLServer', 3: 'SQLite', 100: 'MongoDB'}\n"
          ]
        }
      ]
    },
    {
      "cell_type": "markdown",
      "source": [
        "Xoá một phần tử:"
      ],
      "metadata": {
        "id": "RSGZ0pBaS9yo"
      }
    },
    {
      "cell_type": "code",
      "source": [
        "dict_a.pop(3)\n",
        "print(dict_a) #=> {1: 'MySQL', 2: 'SQLServer', 100: 'MongoDB'}"
      ],
      "metadata": {
        "id": "KsIeox2iS_yi",
        "outputId": "acbb1c4b-0d64-4fcf-a229-f04240ff465a",
        "colab": {
          "base_uri": "https://localhost:8080/"
        }
      },
      "execution_count": 71,
      "outputs": [
        {
          "output_type": "stream",
          "name": "stdout",
          "text": [
            "{1: 'MySQL', 2: 'SQLServer', 100: 'MongoDB'}\n"
          ]
        }
      ]
    },
    {
      "cell_type": "markdown",
      "source": [
        "**STRING**\n",
        "https://thomas-cokelaer.info/tutorials/python/strings.html"
      ],
      "metadata": {
        "id": "WatG-32_TQLQ"
      }
    }
  ]
}