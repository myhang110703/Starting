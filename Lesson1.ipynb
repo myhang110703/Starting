{
  "nbformat": 4,
  "nbformat_minor": 0,
  "metadata": {
    "colab": {
      "provenance": [],
      "authorship_tag": "ABX9TyMH6BdS8ri9eHhIYYcSaESo",
      "include_colab_link": true
    },
    "kernelspec": {
      "name": "python3",
      "display_name": "Python 3"
    },
    "language_info": {
      "name": "python"
    }
  },
  "cells": [
    {
      "cell_type": "markdown",
      "metadata": {
        "id": "view-in-github",
        "colab_type": "text"
      },
      "source": [
        "<a href=\"https://colab.research.google.com/github/myhang110703/Starting/blob/main/Untitled0.ipynb\" target=\"_parent\"><img src=\"https://colab.research.google.com/assets/colab-badge.svg\" alt=\"Open In Colab\"/></a>"
      ]
    },
    {
      "cell_type": "code",
      "execution_count": null,
      "metadata": {
        "id": "D7kNgW4nlDUM"
      },
      "outputs": [],
      "source": []
    },
    {
      "cell_type": "markdown",
      "source": [
        "1. Giới thiệu về khoa học dữ liệu\n"
      ],
      "metadata": {
        "id": "IgCtAXW-mJ-R"
      }
    },
    {
      "cell_type": "code",
      "source": [
        "print('Hello world')"
      ],
      "metadata": {
        "colab": {
          "base_uri": "https://localhost:8080/"
        },
        "id": "329POfr8puJI",
        "outputId": "6ccee63a-29f1-40b0-8089-2e0bfdfcaba8"
      },
      "execution_count": null,
      "outputs": [
        {
          "output_type": "stream",
          "name": "stdout",
          "text": [
            "Hello world\n"
          ]
        }
      ]
    },
    {
      "cell_type": "markdown",
      "source": [
        "3. Biến và các dữ liệu cơ bản trong Python\n",
        "\n",
        "Biến: đánh nhãn cho dữ liệu và lưu trữ thông tin"
      ],
      "metadata": {
        "id": "jmr_411FqRL1"
      }
    },
    {
      "cell_type": "code",
      "source": [
        "z = 1\n",
        "print(z)"
      ],
      "metadata": {
        "colab": {
          "base_uri": "https://localhost:8080/"
        },
        "id": "0kmzp_JuqWDB",
        "outputId": "670acf11-33c9-4d63-f6b9-a1a8c9898098"
      },
      "execution_count": null,
      "outputs": [
        {
          "output_type": "stream",
          "name": "stdout",
          "text": [
            "1\n"
          ]
        }
      ]
    },
    {
      "cell_type": "markdown",
      "source": [
        "f để truyền x, y vào\n",
        "bien: dữ liệu dạng chuỗi"
      ],
      "metadata": {
        "id": "sGroJFDxrfyV"
      }
    },
    {
      "cell_type": "code",
      "source": [
        "x = 3\n",
        "y=4*2\n",
        "bien = \"ho ho ho\"\n",
        "print(f\"x la {x}, y là {y}, biến cho ra {bien}\")"
      ],
      "metadata": {
        "colab": {
          "base_uri": "https://localhost:8080/"
        },
        "id": "74MCf86zq0oI",
        "outputId": "6af936f4-f604-4772-8a9a-3c291c496be4"
      },
      "execution_count": null,
      "outputs": [
        {
          "output_type": "stream",
          "name": "stdout",
          "text": [
            "x la 3, y là 8, biến cho ra ho ho ho\n"
          ]
        }
      ]
    },
    {
      "cell_type": "markdown",
      "source": [
        "Các kiểu dữ liệu\n",
        "int: số nguyên, float: số thực, complex: số phức\n",
        "boolean: đúng sai\n",
        "Hình ảnh/âm thanh là dạng số"
      ],
      "metadata": {
        "id": "lQ6ffE12r0fM"
      }
    },
    {
      "cell_type": "code",
      "source": [
        "Các toán tử trong Python: toán tử số học, toán tử so sánh (quan hệ), toán từ gán, toán từ logic\n",
        "\n",
        "\n"
      ],
      "metadata": {
        "id": "kQQ9jheKu3fk"
      },
      "execution_count": null,
      "outputs": []
    },
    {
      "cell_type": "code",
      "source": [
        "a = \"1\"\n",
        "type(a)"
      ],
      "metadata": {
        "colab": {
          "base_uri": "https://localhost:8080/"
        },
        "id": "RrqWSI0Mv81a",
        "outputId": "f6065d8f-9850-4a2b-8e2a-0597ea35d1dd"
      },
      "execution_count": null,
      "outputs": [
        {
          "output_type": "execute_result",
          "data": {
            "text/plain": [
              "str"
            ]
          },
          "metadata": {},
          "execution_count": 4
        }
      ]
    },
    {
      "cell_type": "code",
      "source": [
        "a = int(a)\n",
        "type(a)"
      ],
      "metadata": {
        "colab": {
          "base_uri": "https://localhost:8080/"
        },
        "id": "rrP0Jh3BwGA8",
        "outputId": "1bc85b65-6625-48e7-df41-5ebd85dee942"
      },
      "execution_count": null,
      "outputs": [
        {
          "output_type": "execute_result",
          "data": {
            "text/plain": [
              "int"
            ]
          },
          "metadata": {},
          "execution_count": 5
        }
      ]
    },
    {
      "cell_type": "markdown",
      "source": [
        "if: phải thỏa điều kiện thì mới bắt đầu vô statement"
      ],
      "metadata": {
        "id": "XBnVtHiZwfpZ"
      }
    },
    {
      "cell_type": "code",
      "source": [
        "a=2\n",
        "b=1\n",
        "if a < b :\n",
        "  print('a nhỏ hơn b')"
      ],
      "metadata": {
        "id": "T16HflwTwODh"
      },
      "execution_count": null,
      "outputs": []
    },
    {
      "cell_type": "code",
      "source": [
        "a = 1\n",
        "b = 1\n",
        "if a<b:\n",
        "  print('a nhỏ hơn b')\n",
        "else:\n",
        "  print('a không nhỏ hơn b')"
      ],
      "metadata": {
        "colab": {
          "base_uri": "https://localhost:8080/"
        },
        "id": "_MtDYVvexKA9",
        "outputId": "321049ba-d95b-4a71-a9a0-0e71e567ce86"
      },
      "execution_count": null,
      "outputs": [
        {
          "output_type": "stream",
          "name": "stdout",
          "text": [
            "a không nhỏ hơn b\n"
          ]
        }
      ]
    },
    {
      "cell_type": "markdown",
      "source": [
        "elif"
      ],
      "metadata": {
        "id": "zgflDGt_x56Z"
      }
    },
    {
      "cell_type": "code",
      "source": [
        "a = 2\n",
        "b = 2\n",
        "if a<b:\n",
        "  print('a nhỏ hơn b')\n",
        "elif a==2:\n",
        "  print('a bằng 2')\n",
        "else:\n",
        "  print('a không nhỏ hơn b')"
      ],
      "metadata": {
        "colab": {
          "base_uri": "https://localhost:8080/"
        },
        "id": "K98qm_qNx7g4",
        "outputId": "45c196df-702f-499d-c720-a1b2c2506292"
      },
      "execution_count": null,
      "outputs": [
        {
          "output_type": "stream",
          "name": "stdout",
          "text": [
            "a bằng 2\n"
          ]
        }
      ]
    },
    {
      "cell_type": "markdown",
      "source": [
        "vòng lặp: while, lặp theo điều kiện\n",
        "for: lặp theo số\n"
      ],
      "metadata": {
        "id": "-JJOOy2Ty8rT"
      }
    },
    {
      "cell_type": "code",
      "source": [
        "a = 0\n",
        "while a<3:\n",
        "  print(a)\n",
        "  a+=1"
      ],
      "metadata": {
        "colab": {
          "base_uri": "https://localhost:8080/"
        },
        "id": "TOi5tXZCywYr",
        "outputId": "d7836f4a-7859-47ce-b649-6b106336dbe6"
      },
      "execution_count": null,
      "outputs": [
        {
          "output_type": "stream",
          "name": "stdout",
          "text": [
            "0\n",
            "1\n",
            "2\n"
          ]
        }
      ]
    },
    {
      "cell_type": "markdown",
      "source": [
        "cấu trúc của dữ liệu trong python: string, tuple, list(chứa nhiều chuỗi), dict(lớn nhất, chứa nhiều dạng)"
      ],
      "metadata": {
        "id": "oTqCeO1Fz_q0"
      }
    },
    {
      "cell_type": "code",
      "source": [
        "Hàm:"
      ],
      "metadata": {
        "id": "9xVXVtE30O2h"
      },
      "execution_count": null,
      "outputs": []
    },
    {
      "cell_type": "code",
      "source": [
        "def sosanh(a,b):\n",
        "  if a>b:\n",
        "    print('{} lớn hơn {}'.format(a,b))\n",
        "  elif a==b:\n",
        "    print('{} và {} bằng nhau'.format(a,b))\n",
        "  else:\n",
        "    print('{} nhỏ hơn {}'.format(a,b))"
      ],
      "metadata": {
        "id": "vy3NZ0NR0-1L"
      },
      "execution_count": null,
      "outputs": []
    },
    {
      "cell_type": "code",
      "source": [
        "sosanh(3,6)"
      ],
      "metadata": {
        "colab": {
          "base_uri": "https://localhost:8080/"
        },
        "id": "S9mu0E921XU9",
        "outputId": "ce652a79-b6d7-49fc-a1c6-df8cd9698cb9"
      },
      "execution_count": null,
      "outputs": [
        {
          "output_type": "stream",
          "name": "stdout",
          "text": [
            "3 nhỏ hơn 6\n"
          ]
        }
      ]
    },
    {
      "cell_type": "code",
      "source": [
        "sosanh(10,4)"
      ],
      "metadata": {
        "colab": {
          "base_uri": "https://localhost:8080/"
        },
        "id": "bMYFkS_42dzv",
        "outputId": "c33171c5-8fa4-4cdb-ef38-b996cd08d159"
      },
      "execution_count": null,
      "outputs": [
        {
          "output_type": "stream",
          "name": "stdout",
          "text": [
            "10 lớn hơn 4\n"
          ]
        }
      ]
    },
    {
      "cell_type": "code",
      "source": [
        "sosanh(4,4)"
      ],
      "metadata": {
        "colab": {
          "base_uri": "https://localhost:8080/"
        },
        "id": "1nJCg7Np2hO7",
        "outputId": "5384cd42-6344-4d72-dbaf-a0575fa6bb4e"
      },
      "execution_count": null,
      "outputs": [
        {
          "output_type": "stream",
          "name": "stdout",
          "text": [
            "4 và 4 bằng nhau\n"
          ]
        }
      ]
    },
    {
      "cell_type": "code",
      "source": [],
      "metadata": {
        "id": "4GubE_jh3HWI"
      },
      "execution_count": null,
      "outputs": []
    },
    {
      "cell_type": "markdown",
      "source": [
        "BT: Viết hàm đánh giá khách hàng dựa trên số tiền trong TK.\n",
        "Nếu TK>50tr -> mở thẻ Visa\n",
        "Nếu TK<50tr -> thôi\n",
        "Nếu TK=50tr -> gửi sếp"
      ],
      "metadata": {
        "id": "bLkXQ1Ih26cf"
      }
    },
    {
      "cell_type": "code",
      "source": [
        "def visa(a):\n",
        "  if a>50:\n",
        "    print('Khách hàng mở thẻ Visa')\n",
        "  elif a==50 :\n",
        "    print('Gửi sếp xem xét')\n",
        "  else:\n",
        "    print('Không mở thẻ')"
      ],
      "metadata": {
        "id": "5Q_bJQWE26BO"
      },
      "execution_count": null,
      "outputs": []
    },
    {
      "cell_type": "code",
      "source": [
        "visa(70)"
      ],
      "metadata": {
        "colab": {
          "base_uri": "https://localhost:8080/"
        },
        "id": "vVENAf0x4BYi",
        "outputId": "40283249-d9c6-4316-8fee-ab80308160bc"
      },
      "execution_count": null,
      "outputs": [
        {
          "output_type": "stream",
          "name": "stdout",
          "text": [
            "Khách hàng mở thẻ Visa\n"
          ]
        }
      ]
    },
    {
      "cell_type": "code",
      "source": [
        "visa(50)"
      ],
      "metadata": {
        "colab": {
          "base_uri": "https://localhost:8080/"
        },
        "id": "23HOdX6h4FLm",
        "outputId": "f6e92a19-2110-4590-c8da-52cd964a3489"
      },
      "execution_count": null,
      "outputs": [
        {
          "output_type": "stream",
          "name": "stdout",
          "text": [
            "Gửi sếp xem xét\n"
          ]
        }
      ]
    },
    {
      "cell_type": "code",
      "source": [
        "visa(30)"
      ],
      "metadata": {
        "colab": {
          "base_uri": "https://localhost:8080/"
        },
        "id": "57QrBQRR4HWs",
        "outputId": "e07f9784-02f2-4099-d874-4b979cc1b459"
      },
      "execution_count": null,
      "outputs": [
        {
          "output_type": "stream",
          "name": "stdout",
          "text": [
            "Không mở thẻ\n"
          ]
        }
      ]
    },
    {
      "cell_type": "markdown",
      "source": [
        "BT: thông tin\n",
        "+ Khách hàng bỏ tiền vô sổ tiết kiệm thì mỗi tháng tự động tăng 15%\n",
        "+ Điểm dừng: hỏi khách hàng muốn để tiền hay rút ra"
      ],
      "metadata": {
        "id": "V7hmrPOb5Zdz"
      }
    },
    {
      "cell_type": "code",
      "source": [
        "a=50\n",
        "while a<300:\n",
        "  a+=a*15/100\n",
        "  if a<200:\n",
        "    print('{}:Tiếp tục'.format(a))\n",
        "  else:\n",
        "    print('{}: Dừng'.format(a))\n"
      ],
      "metadata": {
        "colab": {
          "base_uri": "https://localhost:8080/"
        },
        "id": "ef3en-9c6ABQ",
        "outputId": "a1d10ce9-e6fc-44be-ba26-4e1893a191fa"
      },
      "execution_count": null,
      "outputs": [
        {
          "output_type": "stream",
          "name": "stdout",
          "text": [
            "57.5:Tiếp tục\n",
            "66.125:Tiếp tục\n",
            "76.04375:Tiếp tục\n",
            "87.4503125:Tiếp tục\n",
            "100.567859375:Tiếp tục\n",
            "115.65303828124999:Tiếp tục\n",
            "133.0009940234375:Tiếp tục\n",
            "152.95114312695313:Tiếp tục\n",
            "175.8938145959961:Tiếp tục\n",
            "202.27788678539554: Dừng\n",
            "232.61956980320485: Dừng\n",
            "267.5125052736856: Dừng\n",
            "307.6393810647384: Dừng\n"
          ]
        }
      ]
    },
    {
      "cell_type": "markdown",
      "source": [
        "BTVN:tìm hiểu về str, list, tuple, dict\n"
      ],
      "metadata": {
        "id": "HqPOgeEA7wK6"
      }
    }
  ]
}
